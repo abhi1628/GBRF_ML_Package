{
  "nbformat": 4,
  "nbformat_minor": 0,
  "metadata": {
    "colab": {
      "provenance": [],
      "authorship_tag": "ABX9TyOxj/swG9OTMuqb4aGScoER",
      "include_colab_link": true
    },
    "kernelspec": {
      "name": "python3",
      "display_name": "Python 3"
    },
    "language_info": {
      "name": "python"
    }
  },
  "cells": [
    {
      "cell_type": "markdown",
      "metadata": {
        "id": "view-in-github",
        "colab_type": "text"
      },
      "source": [
        "<a href=\"https://colab.research.google.com/github/abhi1628/GBRF_ML_Package/blob/main/GBRF_Tutorial.ipynb\" target=\"_parent\"><img src=\"https://colab.research.google.com/assets/colab-badge.svg\" alt=\"Open In Colab\"/></a>"
      ]
    },
    {
      "cell_type": "code",
      "source": [
        "!pip install gbrf"
      ],
      "metadata": {
        "id": "LtC02nrgA3AZ",
        "colab": {
          "base_uri": "https://localhost:8080/"
        },
        "outputId": "3ebac909-2542-4050-8c5c-336f603841ea"
      },
      "execution_count": 1,
      "outputs": [
        {
          "output_type": "stream",
          "name": "stdout",
          "text": [
            "Looking in indexes: https://pypi.org/simple, https://us-python.pkg.dev/colab-wheels/public/simple/\n",
            "Collecting gbrf\n",
            "  Downloading gbrf-1.0.7.tar.gz (3.9 kB)\n",
            "  Preparing metadata (setup.py) ... \u001b[?25l\u001b[?25hdone\n",
            "Requirement already satisfied: numpy>=1.20.0 in /usr/local/lib/python3.9/dist-packages (from gbrf) (1.22.4)\n",
            "Requirement already satisfied: scikit-learn>=0.24.0 in /usr/local/lib/python3.9/dist-packages (from gbrf) (1.2.2)\n",
            "Requirement already satisfied: joblib>=1.1.0 in /usr/local/lib/python3.9/dist-packages (from gbrf) (1.1.1)\n",
            "Requirement already satisfied: pandas>=1.2.0 in /usr/local/lib/python3.9/dist-packages (from gbrf) (1.4.4)\n",
            "Requirement already satisfied: matplotlib>=3.3.4 in /usr/local/lib/python3.9/dist-packages (from gbrf) (3.7.1)\n",
            "Requirement already satisfied: python-dateutil>=2.7 in /usr/local/lib/python3.9/dist-packages (from matplotlib>=3.3.4->gbrf) (2.8.2)\n",
            "Requirement already satisfied: kiwisolver>=1.0.1 in /usr/local/lib/python3.9/dist-packages (from matplotlib>=3.3.4->gbrf) (1.4.4)\n",
            "Requirement already satisfied: pyparsing>=2.3.1 in /usr/local/lib/python3.9/dist-packages (from matplotlib>=3.3.4->gbrf) (3.0.9)\n",
            "Requirement already satisfied: packaging>=20.0 in /usr/local/lib/python3.9/dist-packages (from matplotlib>=3.3.4->gbrf) (23.0)\n",
            "Requirement already satisfied: importlib-resources>=3.2.0 in /usr/local/lib/python3.9/dist-packages (from matplotlib>=3.3.4->gbrf) (5.12.0)\n",
            "Requirement already satisfied: contourpy>=1.0.1 in /usr/local/lib/python3.9/dist-packages (from matplotlib>=3.3.4->gbrf) (1.0.7)\n",
            "Requirement already satisfied: pillow>=6.2.0 in /usr/local/lib/python3.9/dist-packages (from matplotlib>=3.3.4->gbrf) (8.4.0)\n",
            "Requirement already satisfied: cycler>=0.10 in /usr/local/lib/python3.9/dist-packages (from matplotlib>=3.3.4->gbrf) (0.11.0)\n",
            "Requirement already satisfied: fonttools>=4.22.0 in /usr/local/lib/python3.9/dist-packages (from matplotlib>=3.3.4->gbrf) (4.39.0)\n",
            "Requirement already satisfied: pytz>=2020.1 in /usr/local/lib/python3.9/dist-packages (from pandas>=1.2.0->gbrf) (2022.7.1)\n",
            "Requirement already satisfied: scipy>=1.3.2 in /usr/local/lib/python3.9/dist-packages (from scikit-learn>=0.24.0->gbrf) (1.10.1)\n",
            "Requirement already satisfied: threadpoolctl>=2.0.0 in /usr/local/lib/python3.9/dist-packages (from scikit-learn>=0.24.0->gbrf) (3.1.0)\n",
            "Requirement already satisfied: zipp>=3.1.0 in /usr/local/lib/python3.9/dist-packages (from importlib-resources>=3.2.0->matplotlib>=3.3.4->gbrf) (3.15.0)\n",
            "Requirement already satisfied: six>=1.5 in /usr/local/lib/python3.9/dist-packages (from python-dateutil>=2.7->matplotlib>=3.3.4->gbrf) (1.15.0)\n",
            "Building wheels for collected packages: gbrf\n",
            "  Building wheel for gbrf (setup.py) ... \u001b[?25l\u001b[?25hdone\n",
            "  Created wheel for gbrf: filename=gbrf-1.0.7-py3-none-any.whl size=3853 sha256=b43d64135f6d0b593b9cc17a2b6733dfebecab16e41bca13a6b18d8b9ea84842\n",
            "  Stored in directory: /root/.cache/pip/wheels/95/ec/1b/a037348207cafb9efb503c95db05b3c8a6884e7bd5a4cad945\n",
            "Successfully built gbrf\n",
            "Installing collected packages: gbrf\n",
            "Successfully installed gbrf-1.0.7\n"
          ]
        }
      ]
    },
    {
      "cell_type": "markdown",
      "source": [
        "## Calculate the R-squared score and mean square error using GBRF ML Algorithm on breast cancer dataset"
      ],
      "metadata": {
        "id": "sSU9xbf6ryAH"
      }
    },
    {
      "cell_type": "code",
      "source": [
        "from sklearn.datasets import load_breast_cancer\n",
        "from gbrf.gbrf import GBRF\n",
        "\n",
        "# Load the breast cancer dataset\n",
        "data = load_breast_cancer(as_frame=True)\n",
        "\n",
        "# Extract features and target\n",
        "X = data.data\n",
        "y = data.target\n",
        "\n",
        "# Initialize GBRF classifier with random_state=42\n",
        "gbrf = GBRF(random_state=42)\n",
        "\n",
        "# Fit the classifier on the data\n",
        "gbrf.fit(X, y)\n",
        "\n",
        "# Print the R-squared score of the model\n",
        "print(\"R-squared score:\", gbrf.score())\n",
        "\n",
        "# Print the mean squared error of the model\n",
        "print(\"Mean squared error:\", gbrf.mse())\n"
      ],
      "metadata": {
        "id": "z8y4gIIXRReJ",
        "colab": {
          "base_uri": "https://localhost:8080/"
        },
        "outputId": "da69c7db-8882-4be3-c9d4-b4bb4ed7df6d"
      },
      "execution_count": 29,
      "outputs": [
        {
          "output_type": "stream",
          "name": "stdout",
          "text": [
            "R-squared score: 0.86707107288374\n",
            "Mean squared error: 0.031241450619626663\n"
          ]
        }
      ]
    },
    {
      "cell_type": "markdown",
      "source": [
        "## Calculate the R-squared score on the testing data"
      ],
      "metadata": {
        "id": "YyX2H_5rskn9"
      }
    },
    {
      "cell_type": "code",
      "source": [
        "import numpy as np\n",
        "import pandas as pd\n",
        "from sklearn.datasets import load_breast_cancer\n",
        "from sklearn.model_selection import train_test_split\n",
        "from gbrf import GBRF\n",
        "\n",
        "# Load breast cancer dataset from scikit-learn\n",
        "data = load_breast_cancer()\n",
        "X = pd.DataFrame(data.data, columns=data.feature_names)\n",
        "y = data.target\n",
        "\n",
        "# Split the dataset into training and testing sets\n",
        "X_train, X_test, y_train, y_test = train_test_split(X, y, test_size=0.2, random_state=42)\n",
        "\n",
        "# Initialize the GBRF model\n",
        "model = GBRF(random_state=42)\n",
        "\n",
        "# Fit the model on the training data\n",
        "model.fit(X_train, y_train)\n",
        "\n",
        "# Calculate the R-squared score on the testing data\n",
        "r2 = model.score()\n",
        "\n",
        "# Print the R-squared score\n",
        "print(\"R-squared score:\", r2)\n"
      ],
      "metadata": {
        "id": "PPpyJCcDfU9b",
        "colab": {
          "base_uri": "https://localhost:8080/"
        },
        "outputId": "16500df8-9144-44d2-d4b2-5642a5a9b21d"
      },
      "execution_count": 6,
      "outputs": [
        {
          "output_type": "stream",
          "name": "stdout",
          "text": [
            "R-squared score: 0.8199108005278766\n"
          ]
        }
      ]
    },
    {
      "cell_type": "markdown",
      "source": [
        "## Determining the model accuracy"
      ],
      "metadata": {
        "id": "weUKazqysymg"
      }
    },
    {
      "cell_type": "code",
      "source": [
        "import gbrf\n",
        "from sklearn.datasets import load_breast_cancer\n",
        "\n",
        "# Load the breast cancer dataset\n",
        "data = load_breast_cancer()\n",
        "\n",
        "# Split the dataset into training and test sets\n",
        "X_train, X_test, y_train, y_test = train_test_split(data.data, data.target, test_size=0.2, random_state=42)\n",
        "\n",
        "# Create a GBRF model\n",
        "model = gbrf.GBRF()\n",
        "\n",
        "# Fit the model to the training data\n",
        "model.fit(X_train, y_train)\n",
        "\n",
        "# Print the model's accuracy on the test set\n",
        "print(\"Accuracy:\", model.score())"
      ],
      "metadata": {
        "colab": {
          "base_uri": "https://localhost:8080/"
        },
        "id": "8qmU4bOOszcV",
        "outputId": "dcff81cd-1083-41c4-d5d2-550c13d76183"
      },
      "execution_count": 8,
      "outputs": [
        {
          "output_type": "stream",
          "name": "stdout",
          "text": [
            "Accuracy: 0.8254537943535414\n"
          ]
        }
      ]
    },
    {
      "cell_type": "markdown",
      "source": [
        "## Comparing SVM and GBRF"
      ],
      "metadata": {
        "id": "G3_qjkZauEZ4"
      }
    },
    {
      "cell_type": "code",
      "source": [
        "from sklearn.datasets import fetch_california_housing\n",
        "from sklearn.preprocessing import StandardScaler\n",
        "from sklearn.model_selection import train_test_split\n",
        "from sklearn.svm import SVR\n",
        "from gbrf import GBRF\n",
        "from sklearn.metrics import mean_squared_error\n",
        "\n",
        "# Load the California Housing dataset\n",
        "X, y = fetch_california_housing(return_X_y=True)\n",
        "\n",
        "# Scale the features\n",
        "scaler = StandardScaler()\n",
        "X = scaler.fit_transform(X)\n",
        "\n",
        "# Split the dataset into training and testing sets\n",
        "X_train, X_test, y_train, y_test = train_test_split(X, y, test_size=0.3, random_state=42)\n",
        "\n",
        "# Train and evaluate the SVR model\n",
        "svr = SVR()\n",
        "svr.fit(X_train, y_train)\n",
        "y_pred_svr = svr.predict(X_test)\n",
        "mse_svr = mean_squared_error(y_test, y_pred_svr)\n",
        "print(\"SVR MSE: {:.4f}\".format(mse_svr))\n",
        "\n",
        "# Train and evaluate the GBRF model\n",
        "gbrf = GBRF()\n",
        "gbrf.fit(X_train, y_train)\n",
        "y_pred_gbrf = gbrf.predict(X_test)\n",
        "mse_gbrf = mean_squared_error(y_test, y_pred_gbrf)\n",
        "print(\"GBRF MSE: {:.4f}\".format(mse_gbrf))\n"
      ],
      "metadata": {
        "colab": {
          "base_uri": "https://localhost:8080/"
        },
        "id": "GHTraFauuEzO",
        "outputId": "28201d5c-90b5-4fb9-e37c-353686fc2e73"
      },
      "execution_count": 12,
      "outputs": [
        {
          "output_type": "stream",
          "name": "stdout",
          "text": [
            "SVR MSE: 0.3471\n",
            "GBRF MSE: 0.2916\n"
          ]
        }
      ]
    },
    {
      "cell_type": "markdown",
      "source": [
        "## Comparing Random Forest and GBRF"
      ],
      "metadata": {
        "id": "sQl8rARUwj0W"
      }
    },
    {
      "cell_type": "code",
      "source": [
        "import pandas as pd\n",
        "from sklearn.datasets import fetch_california_housing\n",
        "from sklearn.ensemble import RandomForestRegressor\n",
        "from sklearn.metrics import r2_score\n",
        "from sklearn.model_selection import train_test_split\n",
        "from gbrf import GBRF\n",
        "\n",
        "# Load the California Housing dataset\n",
        "X, y = fetch_california_housing(return_X_y=True)\n",
        "\n",
        "# Split the dataset into train and test sets\n",
        "X_train, X_test, y_train, y_test = train_test_split(X, y, test_size=0.3, random_state=42)\n",
        "\n",
        "# Train a Random Forest model\n",
        "rf = RandomForestRegressor(random_state=42)\n",
        "rf.fit(X_train, y_train)\n",
        "\n",
        "# Evaluate the Random Forest model\n",
        "y_pred_rf = rf.predict(X_test)\n",
        "r2_rf = r2_score(y_test, y_pred_rf)\n",
        "print(\"Random Forest R2 score: {:.4f}\".format(r2_rf))\n",
        "\n",
        "# Train a GBRF model\n",
        "gbrf = GBRF(random_state=42)\n",
        "gbrf.fit(X_train, y_train)\n",
        "\n",
        "# Evaluate the GBRF model\n",
        "y_pred_gbrf = gbrf.predict(X_test)\n",
        "r2_gbrf = r2_score(y_test, y_pred_gbrf)\n",
        "print(\"GBRF R2 score: {:.4f}\".format(r2_gbrf))\n"
      ],
      "metadata": {
        "colab": {
          "base_uri": "https://localhost:8080/"
        },
        "id": "SxgsdFRbwkU9",
        "outputId": "afede828-85f6-4839-b8aa-d655f14af698"
      },
      "execution_count": 14,
      "outputs": [
        {
          "output_type": "stream",
          "name": "stdout",
          "text": [
            "Random Forest R2 score: 0.8046\n",
            "GBRF R2 score: 0.7817\n"
          ]
        }
      ]
    },
    {
      "cell_type": "markdown",
      "source": [
        "## Comparing GradientBoost and GBRF"
      ],
      "metadata": {
        "id": "852jY-sKxt8t"
      }
    },
    {
      "cell_type": "code",
      "source": [
        "import numpy as np\n",
        "import pandas as pd\n",
        "from sklearn.datasets import fetch_california_housing\n",
        "from sklearn.ensemble import GradientBoostingRegressor\n",
        "from sklearn.metrics import mean_squared_error, r2_score\n",
        "from sklearn.model_selection import cross_val_score, train_test_split\n",
        "from gbrf import GBRF\n",
        "\n",
        "# Load the California Housing dataset\n",
        "X, y = fetch_california_housing(return_X_y=True)\n",
        "\n",
        "# split data into train and test sets\n",
        "X_train, X_test, y_train, y_test = train_test_split(X, y, test_size=0.2, random_state=42)\n",
        "\n",
        "# create instances of GradientBoostingRegressor and GBRF\n",
        "gbr = GradientBoostingRegressor(random_state=42)\n",
        "gbrf = GBRF(random_state=42)\n",
        "\n",
        "# fit models\n",
        "gbr.fit(X_train, y_train)\n",
        "gbrf.fit(X_train, y_train)\n",
        "\n",
        "# evaluate models on test set\n",
        "gbr_pred = gbr.predict(X_test)\n",
        "gbrf_pred = gbrf.predict(X_test)\n",
        "\n",
        "gbr_mse = mean_squared_error(y_test, gbr_pred)\n",
        "gbr_r2 = r2_score(y_test, gbr_pred)\n",
        "\n",
        "gbrf_mse = mean_squared_error(y_test, gbrf_pred)\n",
        "gbrf_r2 = r2_score(y_test, gbrf_pred)\n",
        "\n",
        "print(\"GradientBoostingRegressor\")\n",
        "print(\"MSE: {:.3f}, R2: {:.3f}\".format(gbr_mse, gbr_r2))\n",
        "print(\"GBRF\")\n",
        "print(\"MSE: {:.3f}, R2: {:.3f}\".format(gbrf_mse, gbrf_r2))\n",
        "\n"
      ],
      "metadata": {
        "colab": {
          "base_uri": "https://localhost:8080/"
        },
        "id": "iwSQ1cJxxuYy",
        "outputId": "ae43bfb0-a167-4192-c1dc-aefc349e941f"
      },
      "execution_count": 16,
      "outputs": [
        {
          "output_type": "stream",
          "name": "stdout",
          "text": [
            "GradientBoostingRegressor\n",
            "MSE: 0.294, R2: 0.776\n",
            "GBRF\n",
            "MSE: 0.289, R2: 0.779\n"
          ]
        }
      ]
    },
    {
      "cell_type": "markdown",
      "source": [
        "## Save a trained model and then make prediction using it after loading the saved model"
      ],
      "metadata": {
        "id": "9HsFl_Rl0u2H"
      }
    },
    {
      "cell_type": "code",
      "source": [
        "import numpy as np\n",
        "import pandas as pd\n",
        "from sklearn.datasets import fetch_california_housing\n",
        "from sklearn.ensemble import GradientBoostingRegressor\n",
        "from sklearn.model_selection import train_test_split\n",
        "from gbrf import GBRF\n",
        "import joblib\n",
        "\n",
        "# Load the California Housing dataset\n",
        "X, y = fetch_california_housing(return_X_y=True)\n",
        "\n",
        "# Split the dataset into training and testing sets\n",
        "X_train, X_test, y_train, y_test = train_test_split(X, y, test_size=0.2, random_state=42)\n",
        "\n",
        "# Create an instance of GBRF\n",
        "model = GBRF()\n",
        "\n",
        "# Train the model\n",
        "model.fit(X_train, y_train)\n",
        "\n",
        "# Save the model using joblib\n",
        "joblib.dump(model, 'gbrf_model.joblib')\n",
        "\n",
        "# Load the model from file\n",
        "loaded_model = joblib.load('gbrf_model.joblib')\n",
        "\n",
        "# Make predictions using the loaded model\n",
        "y_pred = loaded_model.predict(X_test)\n",
        "\n",
        "# Print the mean squared error of the predictions\n",
        "mse = np.mean((y_pred - y_test) ** 2)\n",
        "print('Mean Squared Error:', mse)\n"
      ],
      "metadata": {
        "colab": {
          "base_uri": "https://localhost:8080/"
        },
        "id": "sgb-xS6uzfl6",
        "outputId": "ad8fc9af-683d-482e-a4a2-cd2faf85feab"
      },
      "execution_count": 21,
      "outputs": [
        {
          "output_type": "stream",
          "name": "stdout",
          "text": [
            "Mean Squared Error: 0.29082382176987237\n"
          ]
        }
      ]
    }
  ]
}